{
 "cells": [
  {
   "cell_type": "markdown",
   "id": "2da20014-cd70-4c95-ba2c-5ccc46de6613",
   "metadata": {},
   "source": [
    "# THIS IS A CALCULATOR"
   ]
  },
  {
   "cell_type": "code",
   "execution_count": 32,
   "id": "c3d84186-f2a2-4760-9ffb-8aa15b90d1d6",
   "metadata": {
    "tags": []
   },
   "outputs": [
    {
     "name": "stdout",
     "output_type": "stream",
     "text": [
      "Welcome to AB's Calculator.\n"
     ]
    }
   ],
   "source": [
    "print(\"Welcome to AB's Calculator.\")"
   ]
  },
  {
   "cell_type": "code",
   "execution_count": 41,
   "id": "89c2a858-dd14-4fe4-92c1-c355d62c45bc",
   "metadata": {
    "tags": []
   },
   "outputs": [
    {
     "name": "stdout",
     "output_type": "stream",
     "text": [
      "Select an operator: \n"
     ]
    }
   ],
   "source": [
    "print('Select an operator: ')"
   ]
  },
  {
   "cell_type": "code",
   "execution_count": 42,
   "id": "d91ddc65-4ec2-4b0f-ba0c-26631c8ca3f3",
   "metadata": {
    "tags": []
   },
   "outputs": [
    {
     "name": "stdout",
     "output_type": "stream",
     "text": [
      " + for Addittion\n",
      " - for Substraction\n",
      " * for Multiplication\n",
      " / for Division\n"
     ]
    }
   ],
   "source": [
    "print(' + for Addittion')\n",
    "print(' - for Substraction')\n",
    "print(' * for Multiplication')\n",
    "print(' / for Division')"
   ]
  },
  {
   "cell_type": "code",
   "execution_count": 43,
   "id": "0b484b3e-2dcb-4213-bda0-15635970d14f",
   "metadata": {
    "tags": []
   },
   "outputs": [
    {
     "name": "stdin",
     "output_type": "stream",
     "text": [
      "First Number:  1\n",
      "  =\n",
      "Second Number:  1\n"
     ]
    },
    {
     "name": "stdout",
     "output_type": "stream",
     "text": [
      "Invalid operation\n"
     ]
    }
   ],
   "source": [
    "number_1 = float(input('First Number: '))\n",
    "operator = input(' ')\n",
    "number_2 = float(input('Second Number: '))\n",
    "\n",
    "if operator == '+':\n",
    "    print(number_1, '+', number_2, '=', number_1 + number_2)\n",
    "\n",
    "elif operator == '-':\n",
    "    print(number_1, '-', number_2, '=', number_1 - number_2)\n",
    "    \n",
    "elif operator == '*': \n",
    "     print(number_1, '*', number_2, '=', number_1 * number_2)\n",
    "\n",
    "elif operator == '/':\n",
    "    if number_2 !=0:\n",
    "        print(number_1, '/', number_2, '=', number_1 / number_2)\n",
    "    else:\n",
    "        print('Error')\n",
    "\n",
    "else: \n",
    "    print('Invalid operation')"
   ]
  },
  {
   "cell_type": "code",
   "execution_count": 45,
   "id": "5df3e958-65cb-4a18-a011-8c6b2e797bc3",
   "metadata": {
    "tags": []
   },
   "outputs": [
    {
     "name": "stdout",
     "output_type": "stream",
     "text": [
      "Welcome to AB's Calculator.\n",
      "Select an operator: \n",
      " + for Addittion\n",
      " - for Substraction\n",
      " * for Multiplication\n",
      " / for Division\n"
     ]
    },
    {
     "name": "stdin",
     "output_type": "stream",
     "text": [
      "First Number:  10\n",
      "Operator:  -\n",
      "Second Number:  5\n"
     ]
    },
    {
     "name": "stdout",
     "output_type": "stream",
     "text": [
      "Equation: 10.0 - 5.0 = 5.0\n"
     ]
    }
   ],
   "source": [
    "# Welcome message and instruction\n",
    "\n",
    "print(\"Welcome to AB's Calculator.\")\n",
    "print('Select an operator: ')\n",
    "print(' + for Addittion')\n",
    "print(' - for Substraction')\n",
    "print(' * for Multiplication')\n",
    "print(' / for Division')\n",
    "\n",
    "# Getting the user input \n",
    "\n",
    "number_1 = float(input('First Number: '))\n",
    "operator = input('Operator: ')\n",
    "number_2 = float(input('Second Number: '))\n",
    "\n",
    "# Performing calculation \n",
    "\n",
    "if operator == '+':\n",
    "    print('Equation:', number_1, '+', number_2, '=', number_1 + number_2)\n",
    "\n",
    "elif operator == '-':\n",
    "    print('Equation:', number_1, '-', number_2, '=', number_1 - number_2)\n",
    "    \n",
    "elif operator == '*': \n",
    "     print('Equation:', number_1, '*', number_2, '=', number_1 * number_2)\n",
    "\n",
    "elif operator == '/':\n",
    "    if number_2 !=0:\n",
    "        print('Equation:', number_1, '/', number_2, '=', number_1 / number_2)\n",
    "    else:\n",
    "        print('Error')\n",
    "\n",
    "else: \n",
    "    print('Invalid operation')"
   ]
  },
  {
   "cell_type": "code",
   "execution_count": null,
   "id": "4aceb888-a5e6-4a9e-af60-c600d4970ab7",
   "metadata": {},
   "outputs": [],
   "source": []
  }
 ],
 "metadata": {
  "kernelspec": {
   "display_name": "Python 3 (ipykernel)",
   "language": "python",
   "name": "python3"
  },
  "language_info": {
   "codemirror_mode": {
    "name": "ipython",
    "version": 3
   },
   "file_extension": ".py",
   "mimetype": "text/x-python",
   "name": "python",
   "nbconvert_exporter": "python",
   "pygments_lexer": "ipython3",
   "version": "3.11.5"
  }
 },
 "nbformat": 4,
 "nbformat_minor": 5
}
